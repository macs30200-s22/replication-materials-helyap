{
 "cells": [
  {
   "cell_type": "code",
   "execution_count": 3,
   "metadata": {},
   "outputs": [],
   "source": [
    "import statsmodels.api as sm"
   ]
  },
  {
   "cell_type": "code",
   "execution_count": 101,
   "metadata": {},
   "outputs": [],
   "source": [
    "import pandas as pd\n",
    "import seaborn as sns\n",
    "import numpy as np"
   ]
  },
  {
   "cell_type": "markdown",
   "metadata": {},
   "source": [
    "### Data Processing\n",
    "\n",
    "- Also drop unimportant rows and convert variables to dummy if applicable"
   ]
  },
  {
   "cell_type": "code",
   "execution_count": 104,
   "metadata": {},
   "outputs": [],
   "source": [
    "df = pd.read_csv('child-parent_network_cleaned_2.csv', header=0)\n",
    "df = df.drop(['att_check'], axis=1)\n",
    "df = df.drop([0])\n",
    "df['mother_activation_dummy'] = np.where(df['mother_activation']=='no_use', '0', '1')\n",
    "df['father_activation_dummy'] = np.where(df['father_activation']=='no_use', '0', '1')\n",
    "df['e_gender_dummy'] = np.where(df['e_gender']=='Male', '1', '0')\n",
    "df['e_race_dummy'] = np.where(df['e_race']=='White', '1', '0')\n",
    "df['mother_class_high'] = [1 if a==4 or a==3 else 0 for a in df['mother_class']]\n",
    "df['father_class_high'] = [1 if a==4 or a==3 else 0 for a in df['father_class']]\n",
    "df['e_class_high'] = [1 if a==4 or a==3 else 0 for a in df['e_class']]"
   ]
  },
  {
   "cell_type": "code",
   "execution_count": 106,
   "metadata": {},
   "outputs": [],
   "source": [
    "# Tie strength draft\n",
    "df['mother_tie_strength'] = df[['mother_closeness', 'mother_contact']].mean(axis=1)\n",
    "df['father_tie_strength'] = df[['father_closeness', 'father_contact']].mean(axis=1)"
   ]
  },
  {
   "cell_type": "markdown",
   "metadata": {},
   "source": [
    "### Plotting basic demographic information"
   ]
  },
  {
   "cell_type": "code",
   "execution_count": 66,
   "metadata": {},
   "outputs": [
    {
     "data": {
      "text/plain": [
       "<matplotlib.axes._subplots.AxesSubplot at 0x7fbb94d2d978>"
      ]
     },
     "execution_count": 66,
     "metadata": {},
     "output_type": "execute_result"
    },
    {
     "data": {
      "image/png": "[encoded data removed]",
      "text/plain": [
       "<Figure size 432x288 with 1 Axes>"
      ]
     },
     "metadata": {
      "needs_background": "light"
     },
     "output_type": "display_data"
    }
   ],
   "source": [
    "df['e_gender'].value_counts().plot(kind='bar')"
   ]
  },
  {
   "cell_type": "code",
   "execution_count": 107,
   "metadata": {},
   "outputs": [
    {
     "data": {
      "text/plain": [
       "<matplotlib.axes._subplots.AxesSubplot at 0x7fbb95959c18>"
      ]
     },
     "execution_count": 107,
     "metadata": {},
     "output_type": "execute_result"
    },
    {
     "data": {
      "image/png": "[encoded data removed]",
      "text/plain": [
       "<Figure size 432x288 with 1 Axes>"
      ]
     },
     "metadata": {
      "needs_background": "light"
     },
     "output_type": "display_data"
    }
   ],
   "source": [
    "df['e_race'].value_counts().plot(kind='bar')\n",
    "# There are no respondents who self-reported as Hispanic/Origin in ethnicity."
   ]
  },
  {
   "cell_type": "code",
   "execution_count": 68,
   "metadata": {},
   "outputs": [
    {
     "data": {
      "text/plain": [
       "<matplotlib.axes._subplots.AxesSubplot at 0x7fbb954322e8>"
      ]
     },
     "execution_count": 68,
     "metadata": {},
     "output_type": "execute_result"
    },
    {
     "data": {
      "image/png": "[encoded data removed]",
      "text/plain": [
       "<Figure size 432x288 with 1 Axes>"
      ]
     },
     "metadata": {
      "needs_background": "light"
     },
     "output_type": "display_data"
    }
   ],
   "source": [
    "df['e_class'].value_counts(sort=False).plot(kind='bar')"
   ]
  },
  {
   "cell_type": "code",
   "execution_count": 69,
   "metadata": {},
   "outputs": [
    {
     "data": {
      "text/plain": [
       "<matplotlib.axes._subplots.AxesSubplot at 0x7fbb955c1d68>"
      ]
     },
     "execution_count": 69,
     "metadata": {},
     "output_type": "execute_result"
    },
    {
     "data": {
      "image/png": "[encoded data removed]",
      "text/plain": [
       "<Figure size 432x288 with 1 Axes>"
      ]
     },
     "metadata": {
      "needs_background": "light"
     },
     "output_type": "display_data"
    }
   ],
   "source": [
    "df['e_gender'].value_counts(sort=False).plot(kind='bar')"
   ]
  },
  {
   "cell_type": "code",
   "execution_count": 70,
   "metadata": {},
   "outputs": [
    {
     "data": {
      "text/plain": [
       "<matplotlib.axes._subplots.AxesSubplot at 0x7fbb956920f0>"
      ]
     },
     "execution_count": 70,
     "metadata": {},
     "output_type": "execute_result"
    },
    {
     "data": {
      "image/png": "[encoded data removed]",
      "text/plain": [
       "<Figure size 432x288 with 1 Axes>"
      ]
     },
     "metadata": {
      "needs_background": "light"
     },
     "output_type": "display_data"
    }
   ],
   "source": [
    "df['father_activation_dummy'].value_counts(sort=False).plot(kind='bar')"
   ]
  },
  {
   "cell_type": "code",
   "execution_count": 89,
   "metadata": {},
   "outputs": [
    {
     "data": {
      "text/plain": [
       "<matplotlib.axes._subplots.AxesSubplot at 0x7fbb95963b00>"
      ]
     },
     "execution_count": 89,
     "metadata": {},
     "output_type": "execute_result"
    },
    {
     "data": {
      "image/png": "[encoded data removed]",
      "text/plain": [
       "<Figure size 432x288 with 1 Axes>"
      ]
     },
     "metadata": {
      "needs_background": "light"
     },
     "output_type": "display_data"
    }
   ],
   "source": [
    "df['mother_activation_dummy'].value_counts(sort=False).plot(kind='bar')"
   ]
  },
  {
   "cell_type": "markdown",
   "metadata": {},
   "source": [
    "# Logistic regression (controlling for race and gender)"
   ]
  },
  {
   "cell_type": "markdown",
   "metadata": {},
   "source": [
    "### Analysis for mobilization of mother (original hypothesis)"
   ]
  },
  {
   "cell_type": "code",
   "execution_count": 126,
   "metadata": {},
   "outputs": [
    {
     "name": "stdout",
     "output_type": "stream",
     "text": [
      "Optimization terminated successfully.\n",
      "         Current function value: 0.608442\n",
      "         Iterations 6\n",
      "                              Logit Regression Results                             \n",
      "===================================================================================\n",
      "Dep. Variable:     mother_activation_dummy   No. Observations:                   42\n",
      "Model:                               Logit   Df Residuals:                       36\n",
      "Method:                                MLE   Df Model:                            5\n",
      "Date:                     Mon, 25 Apr 2022   Pseudo R-squ.:                  0.1090\n",
      "Time:                             22:41:50   Log-Likelihood:                -25.555\n",
      "converged:                            True   LL-Null:                       -28.682\n",
      "Covariance Type:                 nonrobust   LLR p-value:                    0.2822\n",
      "=======================================================================================\n",
      "                          coef    std err          z      P>|z|      [0.025      0.975]\n",
      "---------------------------------------------------------------------------------------\n",
      "e_class_high            0.8053      0.857      0.939      0.347      -0.875       2.485\n",
      "mother_class_high      -1.0381      0.872     -1.191      0.234      -2.747       0.671\n",
      "mother_tie_strength     0.4183      0.303      1.380      0.168      -0.176       1.013\n",
      "network_size            0.0886      0.081      1.089      0.276      -0.071       0.248\n",
      "e_race_dummy           -0.8435      0.870     -0.970      0.332      -2.548       0.861\n",
      "e_gender_dummy         -0.6436      0.721     -0.892      0.372      -2.057       0.770\n",
      "=======================================================================================\n"
     ]
    }
   ],
   "source": [
    "Xtrain = df[['e_class_high', 'mother_class_high', 'mother_tie_strength','network_size', 'e_race_dummy', 'e_gender_dummy']]\n",
    "ytrain = df[['mother_activation_dummy']]\n",
    "  \n",
    "# building the model and fitting the data\n",
    "log_reg = sm.Logit(ytrain.astype(int), Xtrain.astype(int)).fit()\n",
    "print(log_reg.summary())"
   ]
  },
  {
   "cell_type": "code",
   "execution_count": 129,
   "metadata": {
    "scrolled": true
   },
   "outputs": [
    {
     "name": "stdout",
     "output_type": "stream",
     "text": [
      "Optimization terminated successfully.\n",
      "         Current function value: 0.477110\n",
      "         Iterations 7\n",
      "                              Logit Regression Results                             \n",
      "===================================================================================\n",
      "Dep. Variable:     mother_activation_dummy   No. Observations:                   42\n",
      "Model:                               Logit   Df Residuals:                       35\n",
      "Method:                                MLE   Df Model:                            6\n",
      "Date:                     Mon, 25 Apr 2022   Pseudo R-squ.:                  0.3014\n",
      "Time:                             22:45:37   Log-Likelihood:                -20.039\n",
      "converged:                            True   LL-Null:                       -28.682\n",
      "Covariance Type:                 nonrobust   LLR p-value:                  0.008284\n",
      "=======================================================================================\n",
      "                          coef    std err          z      P>|z|      [0.025      0.975]\n",
      "---------------------------------------------------------------------------------------\n",
      "e_class_high            2.4561      1.334      1.841      0.066      -0.159       5.071\n",
      "father_class_high      -4.2923      1.663     -2.581      0.010      -7.551      -1.033\n",
      "mother_class_high       1.0064      1.446      0.696      0.486      -1.828       3.840\n",
      "mother_tie_strength     0.8388      0.415      2.020      0.043       0.025       1.653\n",
      "network_size            0.1382      0.109      1.272      0.203      -0.075       0.351\n",
      "e_race_dummy           -1.2661      1.079     -1.174      0.241      -3.381       0.848\n",
      "e_gender_dummy         -1.1708      0.981     -1.193      0.233      -3.095       0.753\n",
      "=======================================================================================\n"
     ]
    }
   ],
   "source": [
    "# Adding father's class\n",
    "Xtrain = df[['e_class_high', 'father_class_high', 'mother_class_high', 'mother_tie_strength','network_size','e_race_dummy', 'e_gender_dummy']]\n",
    "ytrain = df[['mother_activation_dummy']]\n",
    "  \n",
    "log_reg = sm.Logit(ytrain.astype(int), Xtrain.astype(int)).fit()\n",
    "print(log_reg.summary())"
   ]
  },
  {
   "cell_type": "markdown",
   "metadata": {},
   "source": [
    "### Analysis for father mobilization"
   ]
  },
  {
   "cell_type": "code",
   "execution_count": 134,
   "metadata": {},
   "outputs": [
    {
     "name": "stdout",
     "output_type": "stream",
     "text": [
      "Optimization terminated successfully.\n",
      "         Current function value: 0.605351\n",
      "         Iterations 5\n",
      "                              Logit Regression Results                             \n",
      "===================================================================================\n",
      "Dep. Variable:     father_activation_dummy   No. Observations:                   42\n",
      "Model:                               Logit   Df Residuals:                       35\n",
      "Method:                                MLE   Df Model:                            6\n",
      "Date:                     Mon, 25 Apr 2022   Pseudo R-squ.:                  0.1267\n",
      "Time:                             23:16:31   Log-Likelihood:                -25.425\n",
      "converged:                            True   LL-Null:                       -29.112\n",
      "Covariance Type:                 nonrobust   LLR p-value:                    0.2876\n",
      "=======================================================================================\n",
      "                          coef    std err          z      P>|z|      [0.025      0.975]\n",
      "---------------------------------------------------------------------------------------\n",
      "e_class_high            0.9870      0.927      1.065      0.287      -0.830       2.804\n",
      "father_class_high      -1.1560      1.110     -1.042      0.297      -3.331       1.019\n",
      "mother_class_high      -0.2460      1.027     -0.240      0.811      -2.259       1.767\n",
      "father_tie_strength     0.5659      0.341      1.660      0.097      -0.102       1.234\n",
      "network_size            0.0693      0.072      0.968      0.333      -0.071       0.209\n",
      "e_race_dummy           -1.3207      0.783     -1.687      0.092      -2.855       0.214\n",
      "e_gender_dummy         -0.4092      0.739     -0.554      0.580      -1.858       1.039\n",
      "=======================================================================================\n"
     ]
    }
   ],
   "source": [
    "# Adding father's class\n",
    "Xtrain = df[['e_class_high', 'father_class_high', 'mother_class_high', 'father_tie_strength','network_size', 'e_race_dummy', 'e_gender_dummy']]\n",
    "ytrain = df[['father_activation_dummy']]\n",
    "  \n",
    "log_reg = sm.Logit(ytrain.astype(int), Xtrain.astype(int)).fit()\n",
    "print(log_reg.summary())"
   ]
  },
  {
   "cell_type": "code",
   "execution_count": 140,
   "metadata": {},
   "outputs": [
    {
     "name": "stdout",
     "output_type": "stream",
     "text": [
      "Optimization terminated successfully.\n",
      "         Current function value: 0.677365\n",
      "         Iterations 4\n",
      "                              Logit Regression Results                             \n",
      "===================================================================================\n",
      "Dep. Variable:     mother_activation_dummy   No. Observations:                   42\n",
      "Model:                               Logit   Df Residuals:                       39\n",
      "Method:                                MLE   Df Model:                            2\n",
      "Date:                     Mon, 25 Apr 2022   Pseudo R-squ.:                0.008116\n",
      "Time:                             23:27:25   Log-Likelihood:                -28.449\n",
      "converged:                            True   LL-Null:                       -28.682\n",
      "Covariance Type:                 nonrobust   LLR p-value:                    0.7923\n",
      "=====================================================================================\n",
      "                        coef    std err          z      P>|z|      [0.025      0.975]\n",
      "-------------------------------------------------------------------------------------\n",
      "father_class_high    -0.4014      0.546     -0.735      0.462      -1.472       0.669\n",
      "e_race_dummy          0.5110      0.569      0.898      0.369      -0.604       1.626\n",
      "e_gender_dummy        0.0412      0.584      0.071      0.944      -1.104       1.186\n",
      "=====================================================================================\n"
     ]
    }
   ],
   "source": [
    "# Adding father's class\n",
    "Xtrain = df[[ 'father_class_high','e_race_dummy', 'e_gender_dummy']]\n",
    "ytrain = df[['mother_activation_dummy']]\n",
    "  \n",
    "log_reg = sm.Logit(ytrain.astype(int), Xtrain.astype(int)).fit()\n",
    "print(log_reg.summary())"
   ]
  },
  {
   "cell_type": "code",
   "execution_count": null,
   "metadata": {},
   "outputs": [],
   "source": []
  }
 ],
 "metadata": {
  "kernelspec": {
   "display_name": "Python 3",
   "language": "python",
   "name": "python3"
  },
  "language_info": {
   "codemirror_mode": {
    "name": "ipython",
    "version": 3
   },
   "file_extension": ".py",
   "mimetype": "text/x-python",
   "name": "python",
   "nbconvert_exporter": "python",
   "pygments_lexer": "ipython3",
   "version": "3.7.3"
  }
 },
 "nbformat": 4,
 "nbformat_minor": 2
}
